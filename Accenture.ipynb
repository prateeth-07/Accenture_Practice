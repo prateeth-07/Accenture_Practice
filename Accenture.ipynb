{
 "cells": [
  {
   "cell_type": "markdown",
   "metadata": {},
   "source": [
    "In an array , a superior element is one which is \n",
    "  greater than all the elements to its right side.\n",
    "  You need to write a program to find the total number\n",
    "  of superior elements present in the array.\n",
    "  (Aug 2024, Accenture)\n",
    "  Input : 6 (n)\n",
    "          8 10 6 2 9 7\n",
    "  Output: 3"
   ]
  },
  {
   "cell_type": "code",
   "execution_count": null,
   "metadata": {},
   "outputs": [],
   "source": [
    "n=int (input())\n",
    "a=list(map(int,input().split()))\n",
    "m=a[-1]\n",
    "c=0\n",
    "for i in range(n-2,-1,-1):\n",
    "    if a[i]>m:\n",
    "        c+=1\n",
    "print(c)"
   ]
  },
  {
   "cell_type": "markdown",
   "metadata": {},
   "source": [
    "You are provided with a string which has a sequence of\n",
    "  1's and 0's.This sequence is the encoded version of a\n",
    "  engliish word.You are supposed to write a program to \n",
    "  decode the provided string and find the original word.\n",
    "  Each Alphabet is represented by a sequence of 1s.\n",
    "  (Aug 2024, Accenture)\n",
    "  A:1\n",
    "  B:11\n",
    "  C:111\n",
    "  ....\n",
    "  And so on upto Z having 26 1s.\n",
    "  The sequence of 1s in the encoded form are separated by\n",
    "  single 0 which helps to distinguish between 2 letters.\n",
    "  Note: Input String will always be in uppercase.\n",
    "  \n",
    "  Input : 101101110             Input : 11101111011111\n",
    "  Output: ABC                   Output: CDE"
   ]
  },
  {
   "cell_type": "code",
   "execution_count": null,
   "metadata": {},
   "outputs": [],
   "source": []
  },
  {
   "cell_type": "markdown",
   "metadata": {},
   "source": [
    "You are on a hiking trail represented by an array A of\n",
    " length N.Where the trial initially ascends and then  \n",
    " descends forming a single peek.Your task is to find and \n",
    " return an integer value representing the elevation of \n",
    " the summit.(Aug 2024)\n",
    "\n",
    " Input : 1,2,3,4,3,2,1         Input : 5,3 \n",
    "         7(N value)                    2\n",
    " Output: 4                     Output: 5"
   ]
  },
  {
   "cell_type": "code",
   "execution_count": 3,
   "metadata": {},
   "outputs": [
    {
     "name": "stdout",
     "output_type": "stream",
     "text": [
      "4\n"
     ]
    }
   ],
   "source": [
    "n=int(input())\n",
    "a=list(map(int,input().split()))\n",
    "print(max(a))"
   ]
  },
  {
   "cell_type": "markdown",
   "metadata": {},
   "source": [
    "You are Given an Integer N and String S. Your task is \n",
    "  to find and return new string which consist of the \n",
    "  original string repeated N times.(Aug 2024)\n",
    "  \n",
    "  Input : 3                Input : 4\n",
    "          abc                      ac\n",
    "  Output: abcabcabc        Output: acacacac"
   ]
  },
  {
   "cell_type": "code",
   "execution_count": 5,
   "metadata": {},
   "outputs": [
    {
     "name": "stdout",
     "output_type": "stream",
     "text": [
      "abcabcabc"
     ]
    }
   ],
   "source": [
    "n=int(input())\n",
    "s=input()\n",
    "for i in range(n):\n",
    "    print(s,end=\"\")"
   ]
  },
  {
   "cell_type": "markdown",
   "metadata": {},
   "source": [
    "You are provided two strings S1 and S2.In S1, you can\n",
    "  perform operation such as adding, removing or swapping\n",
    "  letters.Each Operations has a specific cost value\n",
    "  associated with it, as shown below.\n",
    "  *If a letter is removed from S1, the cost is 0\n",
    "  *If a pair of letters are swapped in S1, the cost is 0\n",
    "  *If a new letter is added to the end of S1, \n",
    "   the cost is 1\n",
    "  \n",
    "  Your task is to find and return integer value \n",
    "  representing the minimum cost required to transform\n",
    "  string S1 to S2.\n",
    "  Note: Both S1 and S2 consist Uppercase Alphabets only.\n",
    "\n",
    "  Input : ABD                Input : XYZ\n",
    "          AABCCAD                    ABC\n",
    "  Output: 4\n"
   ]
  },
  {
   "cell_type": "code",
   "execution_count": null,
   "metadata": {},
   "outputs": [],
   "source": [
    "from collections import Counter\n",
    "S1 = input()\n",
    "S2 = input() \n",
    "count_S1 = Counter(S1)\n",
    "count_S2 = Counter(S2)\n",
    "cost = 0\n",
    "for i in count_S2:\n",
    "    if count_S2[i] > count_S1[i]:\n",
    "        cost += count_S2[i] - count_S1[i]  \n",
    "print(cost)  \n"
   ]
  },
  {
   "cell_type": "markdown",
   "metadata": {},
   "source": [
    "You are organising a charity run where participants\n",
    " contribute a dollar for every even numbered kilometer\n",
    " they complete.Your tasks is to find and return an integer\n",
    " value representing the total amount of money raised if\n",
    " the race is N kilometer long.\n",
    " \n",
    " Input : 10\n",
    " Output: 30"
   ]
  },
  {
   "cell_type": "code",
   "execution_count": 13,
   "metadata": {},
   "outputs": [
    {
     "name": "stdout",
     "output_type": "stream",
     "text": [
      "30\n"
     ]
    }
   ],
   "source": [
    "def total_money_raised(N):\n",
    "    return sum(km for km in range(2, N+1, 2))\n",
    "N = int(input())\n",
    "print(total_money_raised(N))\n"
   ]
  },
  {
   "cell_type": "markdown",
   "metadata": {},
   "source": [
    "You are given a program to find the count off magical \n",
    "  numbers from 1 to N. A magical number is defined as:\n",
    "  *Convert each number in the range 1 to N to its binary\n",
    "   representation.\n",
    "  *Replace 0 with 1 and 1 with 2 in binary string.\n",
    "  *Calculate the sum of all digits in the modified string\n",
    "   If result is odd number then it is considered a \n",
    "   magical string.\n",
    "\n",
    "  You will be given N as input, find out all the magic\n",
    "  numbers from range 1 to N.\n",
    "  \n",
    "  Input : 4              Input : 5\n",
    "  Output: 1              Output: 2"
   ]
  },
  {
   "cell_type": "code",
   "execution_count": null,
   "metadata": {},
   "outputs": [],
   "source": []
  },
  {
   "cell_type": "markdown",
   "metadata": {},
   "source": [
    "Find the sum of all the Prime numbers till the given\n",
    "  number N.\n",
    "  Input : 10\n",
    "  Output: 17     (2+3+5+7)"
   ]
  },
  {
   "cell_type": "code",
   "execution_count": 15,
   "metadata": {},
   "outputs": [
    {
     "name": "stdout",
     "output_type": "stream",
     "text": [
      "17\n"
     ]
    }
   ],
   "source": [
    "n=int(input())\n",
    "p=0\n",
    "for i in range(2,n+1):\n",
    "    is_p=True\n",
    "    for j in range(2,i):\n",
    "        if i%j==0:\n",
    "            is_p=False\n",
    "    if is_p:\n",
    "        p+=i\n",
    "print(p)"
   ]
  },
  {
   "cell_type": "markdown",
   "metadata": {},
   "source": [
    "You are working on a financial analysing tool which\n",
    " represent daily stock prices of a company over time.Each\n",
    " element in the integer array A of size N represents the\n",
    " closing price of the stock for that particular day.Your\n",
    " task is to find and return an integer value representing\n",
    " the total number of days where the stock market price  \n",
    " decreased indicating negative growth.\n",
    "\n",
    " Input : 7                         Input : 5\n",
    "         5 6 4 5 2 3 4                     5 4 3 2 1\n",
    " Output: 2                         Output: 4"
   ]
  },
  {
   "cell_type": "code",
   "execution_count": 20,
   "metadata": {},
   "outputs": [
    {
     "name": "stdout",
     "output_type": "stream",
     "text": [
      "2\n"
     ]
    }
   ],
   "source": [
    "n=int(input())\n",
    "a=list(map(int,input().split()))\n",
    "c=0\n",
    "for i in range(1,len(a)):\n",
    "    if a[i]<a[i-1]:\n",
    "        c+=1\n",
    "print(c)"
   ]
  },
  {
   "cell_type": "markdown",
   "metadata": {},
   "source": [
    "Alice has collection of songs represented as string S\n",
    " where each character represents a song.A playlist is the\n",
    " substring of the givenstring with exactly k number of\n",
    " songs. She wants to create a playlist that contains max\n",
    " number of her favourite song which is 'a'.Your task is\n",
    " to find and return an integer value representing the max\n",
    " number of favourite songs that she get in single playlist.\n",
    "\n",
    " Input : abcaca                  Input : defghugf\n",
    "         3                               3\n",
    " Output: 2                       Output: 0"
   ]
  },
  {
   "cell_type": "code",
   "execution_count": null,
   "metadata": {},
   "outputs": [],
   "source": []
  },
  {
   "cell_type": "markdown",
   "metadata": {},
   "source": [
    "Write a function that accepts an integer array 'arr' of\n",
    " size n as its argument.The function needs to return the \n",
    " index of an equilibrium point in the array, where the\n",
    " sum of elements on the left of the index is equal to the\n",
    " sum of elements on the right of the index. If no such\n",
    " point exists return -1.\n",
    "\n",
    " Input : 7                       Input : 3\n",
    "         -7 1 5 2 -4 3 0                 1 2 3\n",
    " Output: 3                       Output: -1"
   ]
  },
  {
   "cell_type": "code",
   "execution_count": 23,
   "metadata": {},
   "outputs": [
    {
     "name": "stdout",
     "output_type": "stream",
     "text": [
      "-1\n"
     ]
    }
   ],
   "source": [
    "n=int(input())\n",
    "a=list(map(int,input().split()))\n",
    "e=0\n",
    "for i in range(n):\n",
    "    if sum(a[:i])==sum(a[i+1:]):\n",
    "        e=i\n",
    "        break\n",
    "if e==0:\n",
    "    print(-1)\n",
    "else:\n",
    "    print(e)"
   ]
  },
  {
   "cell_type": "markdown",
   "metadata": {},
   "source": [
    "A googly prime number is defined as a number that is \n",
    " derived from the sum of its individual digits.For example,\n",
    " if N=43, the sum of its digits is 4+3=7, which is prime\n",
    " making it a googly prime number.\n",
    " Your task is to find whether the current number is googly\n",
    " prime number or not.\n",
    "\n",
    " Input : 43                  Input : 123\n",
    " Output: Yes                 Output: No"
   ]
  },
  {
   "cell_type": "code",
   "execution_count": 26,
   "metadata": {},
   "outputs": [
    {
     "name": "stdout",
     "output_type": "stream",
     "text": [
      "Yes\n"
     ]
    }
   ],
   "source": [
    "n=input()\n",
    "def is_p(n):\n",
    "    if n<=1:\n",
    "        return False\n",
    "    for i in range(2,int(n**0.5)+1):\n",
    "        if n%i==0:\n",
    "            return False\n",
    "    return True\n",
    "\n",
    "s=sum(int(i) for i in n)\n",
    "if is_p(s):\n",
    "    print(\"Yes\")\n",
    "else:\n",
    "    print(\"No\")    "
   ]
  },
  {
   "cell_type": "markdown",
   "metadata": {},
   "source": [
    "You are given a string S and your task is to find and\n",
    " return the count of permutation formed by fixing the\n",
    " positions of the vowels present in the string.\n",
    " Note:If there are no consonents then return 0.\n",
    " \n",
    " Input : ABC                     Input : CDF\n",
    " Output: 2                       Output: 6"
   ]
  },
  {
   "cell_type": "code",
   "execution_count": null,
   "metadata": {},
   "outputs": [],
   "source": []
  },
  {
   "cell_type": "markdown",
   "metadata": {},
   "source": [
    "Ian has been given an array A of length N and he wants \n",
    " to find the sum of even positions after reversing the \n",
    " array.Your task is to help him find the sum of array\n",
    " elements present at the even index of the reversed array.\n",
    "\n",
    " Input : 10 20 30 40 50 60 \n",
    "         6\n",
    " Output: 120\n",
    "\n",
    " Input : 21 24 67 13 24 27\n",
    "         6\n",
    " Output: 64"
   ]
  },
  {
   "cell_type": "code",
   "execution_count": 30,
   "metadata": {},
   "outputs": [
    {
     "name": "stdout",
     "output_type": "stream",
     "text": [
      "64\n"
     ]
    }
   ],
   "source": [
    "n=int(input())\n",
    "a=list(map(int,input().split()))\n",
    "a.reverse()\n",
    "e=[]\n",
    "o=[]\n",
    "for i in range(n):\n",
    "    if i%2==0:\n",
    "        e.append(a[i])\n",
    "    else:\n",
    "        o.append(a[i])\n",
    "print(sum(e))\n",
    "        \n"
   ]
  },
  {
   "cell_type": "markdown",
   "metadata": {},
   "source": [
    "Charles is given an array.He wants to find the count\n",
    " of occurrences of second largest element in the array.\n",
    " Your task is to help him find the count of occurrence \n",
    " of the second largest element in an array.\n",
    " Note:\n",
    " *If the array contains same elements , then return 0\n",
    " *The array has only consecutive elements i.e,in sorted\n",
    "  order.\n",
    " Input : 8                      Input : 5\n",
    "         1 2 3 4 4 5 5 5                5 5 5 5 5\n",
    " Output: 2                      Output: 0"
   ]
  },
  {
   "cell_type": "code",
   "execution_count": 33,
   "metadata": {},
   "outputs": [
    {
     "name": "stdout",
     "output_type": "stream",
     "text": [
      "0\n"
     ]
    }
   ],
   "source": [
    "n=int(input())\n",
    "a=list(map(int,input().split()))\n",
    "a.sort()\n",
    "largest=a[-1]\n",
    "sec=0\n",
    "for i in range(n-2,-1,-1):\n",
    "    if a[i]<largest:\n",
    "        sec=a[i]\n",
    "        break\n",
    "occurance=a.count(sec)\n",
    "print(occurance)"
   ]
  },
  {
   "cell_type": "markdown",
   "metadata": {},
   "source": [
    "Given string and two characters ch1,ch2 as input.\n",
    " Replace all occurences of ch1 with ch2 and ch2 with ch1\n",
    " in the input string.\n",
    "\n",
    " Input : apples                Input : coders\n",
    "         a                             c\n",
    "         p                             r\n",
    " Output: paales                Output: rodecs"
   ]
  },
  {
   "cell_type": "code",
   "execution_count": 35,
   "metadata": {},
   "outputs": [
    {
     "name": "stdout",
     "output_type": "stream",
     "text": [
      "paales\n"
     ]
    }
   ],
   "source": [
    "s=input()\n",
    "ch1=input()\n",
    "ch2=input()\n",
    "s_list=list(s)\n",
    "for i in range(len(s_list)):\n",
    "    if s_list[i]==ch1:\n",
    "        s_list[i]=ch2\n",
    "    elif s_list[i]==ch2:\n",
    "        s_list[i]=ch1\n",
    "print(\"\".join(s_list))"
   ]
  },
  {
   "cell_type": "markdown",
   "metadata": {},
   "source": [
    "Alex gives you a positive integer N and wants you to\n",
    " rearrange the bits of the number in its binary \n",
    " representation such that all set bits are in consecutive\n",
    " order.Your task is to find the min possible number that\n",
    " can be formed after re-arranging the bits of the number.\n",
    "  \n",
    " Input : 10                     Input : 2\n",
    " Output: 3                      Output: 1"
   ]
  },
  {
   "cell_type": "code",
   "execution_count": null,
   "metadata": {},
   "outputs": [],
   "source": []
  },
  {
   "cell_type": "markdown",
   "metadata": {},
   "source": [
    "Two players A and B are playing the game Rock,Paper and\n",
    " Scissors. Player A chooses a move represented by string\n",
    " M and the move can be one of the following:\n",
    " Rock,Paper or Scissors where\n",
    " * Rock beats scissors\n",
    " * Scissor beats paper\n",
    " * Paper beats rock\n",
    " Your task is to find and return a string value \n",
    " representing the winning move of B.\n",
    "\n",
    " Input : rock                   Input : paper\n",
    " Output: paper                  Output: scissor"
   ]
  },
  {
   "cell_type": "code",
   "execution_count": 38,
   "metadata": {},
   "outputs": [
    {
     "name": "stdout",
     "output_type": "stream",
     "text": [
      "scissor\n"
     ]
    }
   ],
   "source": [
    "s=input()\n",
    "if s==\"Rock\":\n",
    "    print(\"paper\")\n",
    "elif s==\"paper\":\n",
    "    print(\"scissor\")\n",
    "elif s==\"scissor\":\n",
    "    print(\"rock\")\n",
    "else:\n",
    "    print(\"Invalid input\")"
   ]
  },
  {
   "cell_type": "markdown",
   "metadata": {},
   "source": [
    "Ram is student who often get confused with lowercase and\n",
    " uppercase letters.He has decided to write an algorithm\n",
    " to solve the issue.Given a string you are required to\n",
    " determine whether it should be converted to all lower-\n",
    " case or all uppercase, depending on the count of \n",
    " lowercase and uppercase letters in the string.\n",
    "\n",
    " Input :Hello wORld              Input :How ARE You\n",
    " Output:hello world              Output:HOW ARE YOU"
   ]
  },
  {
   "cell_type": "code",
   "execution_count": null,
   "metadata": {},
   "outputs": [],
   "source": []
  },
  {
   "cell_type": "markdown",
   "metadata": {},
   "source": [
    "You have been given an integer N as input.Your task is\n",
    "  to write a program to print N rows of Floyd's Triangle.\n",
    "  Floyd's triangle is a right angled triangular array of\n",
    "  natural numbers, used for the numbering of lines in\n",
    "  a printout.\n",
    "   \n",
    "  For N=4\n",
    "  1\n",
    "  2 3\n",
    "  4 5 6 \n",
    "  7 8 9 10"
   ]
  },
  {
   "cell_type": "code",
   "execution_count": 42,
   "metadata": {},
   "outputs": [
    {
     "name": "stdout",
     "output_type": "stream",
     "text": [
      "1       \n",
      "2 3     \n",
      "4 5 6   \n",
      "7 8 9 10 \n"
     ]
    }
   ],
   "source": [
    "n=int(input())\n",
    "start=1\n",
    "for i in range(n):\n",
    "    for j in range(n):\n",
    "        if j<=i:\n",
    "            print(start,end=\" \")\n",
    "            start+=1\n",
    "        else:\n",
    "            print(\" \",end=\" \")\n",
    "    print()"
   ]
  },
  {
   "cell_type": "markdown",
   "metadata": {},
   "source": [
    "Print the given pattern.You are given a number N and\n",
    "  you have to print the given pattern.\n",
    "  \n",
    "  For N=3\n",
    "  333222111\n",
    "  332211\n",
    "  321"
   ]
  },
  {
   "cell_type": "code",
   "execution_count": null,
   "metadata": {},
   "outputs": [],
   "source": []
  }
 ],
 "metadata": {
  "kernelspec": {
   "display_name": "Python 3",
   "language": "python",
   "name": "python3"
  },
  "language_info": {
   "codemirror_mode": {
    "name": "ipython",
    "version": 3
   },
   "file_extension": ".py",
   "mimetype": "text/x-python",
   "name": "python",
   "nbconvert_exporter": "python",
   "pygments_lexer": "ipython3",
   "version": "3.11.9"
  }
 },
 "nbformat": 4,
 "nbformat_minor": 2
}
